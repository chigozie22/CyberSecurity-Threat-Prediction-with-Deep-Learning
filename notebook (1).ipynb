{
 "cells": [
  {
   "cell_type": "markdown",
   "id": "d547b11f-1ed0-4d71-9b39-514ba85079ec",
   "metadata": {},
   "source": [
    "![cyber_photo](cyber_photo.jpg)\n",
    "\n",
    "Cyber threats are a growing concern for organizations worldwide. These threats take many forms, including malware, phishing, and denial-of-service (DOS) attacks, compromising sensitive information and disrupting operations. The increasing sophistication and frequency of these attacks make it imperative for organizations to adopt advanced security measures. Traditional threat detection methods often fall short due to their inability to adapt to new and evolving threats. This is where deep learning models come into play.\n",
    "\n",
    "Deep learning models can analyze vast amounts of data and identify patterns that may not be immediately obvious to human analysts. By leveraging these models, organizations can proactively detect and mitigate cyber threats, safeguarding their sensitive information and ensuring operational continuity.\n",
    "\n",
    "As a cybersecurity analyst, you identify and mitigate these threats. In this project, you will design and implement a deep learning model to detect cyber threats. The BETH dataset simulates real-world logs, providing a rich source of information for training and testing your model. The data has already undergone preprocessing, and we have a target label, `sus_label`, indicating whether an event is malicious (1) or benign (0).\n",
    "\n",
    "By successfully developing this model, you will contribute to enhancing cybersecurity measures and protecting organizations from potentially devastating cyber attacks."
   ]
  },
  {
   "cell_type": "markdown",
   "id": "d2967110-9515-4a1b-8ab6-f7bfd5c84d83",
   "metadata": {},
   "source": [
    "\n",
    "### The Data\n",
    "\n",
    "| Column     | Description              |\n",
    "|------------|--------------------------|\n",
    "|`processId`|The unique identifier for the process that generated the event - int64 |\n",
    "|`threadId`|ID for the thread spawning the log - int64|\n",
    "|`parentProcessId`|Label for the process spawning this log - int64|\n",
    "|`userId`|ID of user spawning the log|Numerical - int64|\n",
    "|`mountNamespace`|Mounting restrictions the process log works within - int64|\n",
    "|`argsNum`|Number of arguments passed to the event - int64|\n",
    "|`returnValue`|Value returned from the event log (usually 0) - int64|\n",
    "|`sus_label`|Binary label as suspicous event (1 is suspicious, 0 is not) - int64|\n",
    "\n",
    "More information on the dataset: [BETH dataset](accreditation.md)"
   ]
  },
  {
   "cell_type": "code",
   "execution_count": 37,
   "id": "35558034-b7b7-4ab7-8d59-5e6ed281f838",
   "metadata": {
    "executionCancelledAt": null,
    "executionTime": 3164,
    "lastExecutedAt": 1737562065131,
    "lastExecutedByKernel": "fb7c29d9-1741-4908-ab0b-b584fe53b3e9",
    "lastScheduledRunId": null,
    "lastSuccessfullyExecutedCode": "# Make sure to run this cell to use torchmetrics. If you cannot use pip install to install the torchmetrics, you can use sklearn.\n!pip install torchmetrics",
    "outputsMetadata": {
     "0": {
      "height": 445,
      "type": "stream"
     }
    }
   },
   "outputs": [
    {
     "name": "stdout",
     "output_type": "stream",
     "text": [
      "Defaulting to user installation because normal site-packages is not writeable\n",
      "Requirement already satisfied: torchmetrics in /home/repl/.local/lib/python3.8/site-packages (1.5.2)\n",
      "Requirement already satisfied: numpy>1.20.0 in /usr/local/lib/python3.8/dist-packages (from torchmetrics) (1.23.2)\n",
      "Requirement already satisfied: packaging>17.1 in /usr/local/lib/python3.8/dist-packages (from torchmetrics) (23.2)\n",
      "Requirement already satisfied: torch>=1.10.0 in /usr/local/lib/python3.8/dist-packages (from torchmetrics) (1.13.0)\n",
      "Requirement already satisfied: lightning-utilities>=0.8.0 in /home/repl/.local/lib/python3.8/site-packages (from torchmetrics) (0.11.9)\n",
      "Requirement already satisfied: typing-extensions in /usr/local/lib/python3.8/dist-packages (from torchmetrics) (4.12.2)\n",
      "Requirement already satisfied: setuptools in /usr/local/lib/python3.8/dist-packages (from lightning-utilities>=0.8.0->torchmetrics) (65.6.3)\n",
      "Requirement already satisfied: nvidia-cuda-runtime-cu11==11.7.99 in /usr/local/lib/python3.8/dist-packages (from torch>=1.10.0->torchmetrics) (11.7.99)\n",
      "Requirement already satisfied: nvidia-cudnn-cu11==8.5.0.96 in /usr/local/lib/python3.8/dist-packages (from torch>=1.10.0->torchmetrics) (8.5.0.96)\n",
      "Requirement already satisfied: nvidia-cublas-cu11==11.10.3.66 in /usr/local/lib/python3.8/dist-packages (from torch>=1.10.0->torchmetrics) (11.10.3.66)\n",
      "Requirement already satisfied: nvidia-cuda-nvrtc-cu11==11.7.99 in /usr/local/lib/python3.8/dist-packages (from torch>=1.10.0->torchmetrics) (11.7.99)\n",
      "Requirement already satisfied: wheel in /usr/local/lib/python3.8/dist-packages (from nvidia-cublas-cu11==11.10.3.66->torch>=1.10.0->torchmetrics) (0.38.4)\n"
     ]
    }
   ],
   "source": [
    "# Make sure to run this cell to use torchmetrics. If you cannot use pip install to install the torchmetrics, you can use sklearn.\n",
    "!pip install torchmetrics"
   ]
  },
  {
   "cell_type": "code",
   "execution_count": 38,
   "id": "e3121b05-9873-431d-812c-62bceffbf1b3",
   "metadata": {
    "executionCancelledAt": null,
    "executionTime": 51,
    "lastExecutedAt": 1737562065183,
    "lastExecutedByKernel": "fb7c29d9-1741-4908-ab0b-b584fe53b3e9",
    "lastScheduledRunId": null,
    "lastSuccessfullyExecutedCode": "# Import required libraries\nimport pandas as pd\nfrom sklearn.preprocessing import StandardScaler\nimport torch\nimport torch.nn as nn\nimport torch.nn.functional as functional\nfrom torch.utils.data import DataLoader, TensorDataset\nimport torch.optim as optim\nfrom torchmetrics import Accuracy\n# from sklearn.metrics import accuracy_score  # uncomment to use sklearn"
   },
   "outputs": [],
   "source": [
    "# Import required libraries\n",
    "import pandas as pd\n",
    "from sklearn.preprocessing import StandardScaler\n",
    "import torch\n",
    "import torch.nn as nn\n",
    "import torch.nn.functional as functional\n",
    "from torch.utils.data import DataLoader, TensorDataset\n",
    "import torch.optim as optim\n",
    "from torchmetrics import Accuracy\n",
    "# from sklearn.metrics import accuracy_score  # uncomment to use sklearn"
   ]
  },
  {
   "cell_type": "code",
   "execution_count": 39,
   "id": "08bfe2bf-3132-490e-9c16-9026f82b8d73",
   "metadata": {
    "executionCancelledAt": null,
    "executionTime": 377,
    "lastExecutedAt": 1737562065560,
    "lastExecutedByKernel": "fb7c29d9-1741-4908-ab0b-b584fe53b3e9",
    "lastScheduledRunId": null,
    "lastSuccessfullyExecutedCode": "# Load preprocessed data\ntrain_df = pd.read_csv('labelled_train.csv')\ntest_df = pd.read_csv('labelled_test.csv')\nval_df = pd.read_csv('labelled_validation.csv')\n\n# View the first 5 rows of training set\ntrain_df.head()",
    "outputsMetadata": {
     "0": {
      "height": 245,
      "tableState": {
       "quickFilterText": ""
      },
      "type": "dataFrame"
     }
    }
   },
   "outputs": [
    {
     "data": {
      "application/com.datacamp.data-table.v2+json": {
       "table": {
        "data": {
         "argsNum": [
          5,
          1,
          0,
          2,
          4
         ],
         "index": [
          0,
          1,
          2,
          3,
          4
         ],
         "mountNamespace": [
          4026532231,
          4026532231,
          4026532231,
          4026531840,
          4026531840
         ],
         "parentProcessId": [
          1,
          1,
          1,
          7341,
          7341
         ],
         "processId": [
          381,
          381,
          381,
          7347,
          7347
         ],
         "returnValue": [
          0,
          0,
          0,
          -2,
          0
         ],
         "sus_label": [
          1,
          1,
          1,
          1,
          1
         ],
         "threadId": [
          7337,
          7337,
          7337,
          7347,
          7347
         ],
         "userId": [
          100,
          100,
          100,
          0,
          0
         ]
        },
        "schema": {
         "fields": [
          {
           "name": "index",
           "type": "integer"
          },
          {
           "name": "processId",
           "type": "integer"
          },
          {
           "name": "threadId",
           "type": "integer"
          },
          {
           "name": "parentProcessId",
           "type": "integer"
          },
          {
           "name": "userId",
           "type": "integer"
          },
          {
           "name": "mountNamespace",
           "type": "integer"
          },
          {
           "name": "argsNum",
           "type": "integer"
          },
          {
           "name": "returnValue",
           "type": "integer"
          },
          {
           "name": "sus_label",
           "type": "integer"
          }
         ],
         "pandas_version": "1.4.0",
         "primaryKey": [
          "index"
         ]
        }
       },
       "total_rows": 5,
       "truncation_type": null
      },
      "text/html": [
       "<div>\n",
       "<style scoped>\n",
       "    .dataframe tbody tr th:only-of-type {\n",
       "        vertical-align: middle;\n",
       "    }\n",
       "\n",
       "    .dataframe tbody tr th {\n",
       "        vertical-align: top;\n",
       "    }\n",
       "\n",
       "    .dataframe thead th {\n",
       "        text-align: right;\n",
       "    }\n",
       "</style>\n",
       "<table border=\"1\" class=\"dataframe\">\n",
       "  <thead>\n",
       "    <tr style=\"text-align: right;\">\n",
       "      <th></th>\n",
       "      <th>processId</th>\n",
       "      <th>threadId</th>\n",
       "      <th>parentProcessId</th>\n",
       "      <th>userId</th>\n",
       "      <th>mountNamespace</th>\n",
       "      <th>argsNum</th>\n",
       "      <th>returnValue</th>\n",
       "      <th>sus_label</th>\n",
       "    </tr>\n",
       "  </thead>\n",
       "  <tbody>\n",
       "    <tr>\n",
       "      <th>0</th>\n",
       "      <td>381</td>\n",
       "      <td>7337</td>\n",
       "      <td>1</td>\n",
       "      <td>100</td>\n",
       "      <td>4026532231</td>\n",
       "      <td>5</td>\n",
       "      <td>0</td>\n",
       "      <td>1</td>\n",
       "    </tr>\n",
       "    <tr>\n",
       "      <th>1</th>\n",
       "      <td>381</td>\n",
       "      <td>7337</td>\n",
       "      <td>1</td>\n",
       "      <td>100</td>\n",
       "      <td>4026532231</td>\n",
       "      <td>1</td>\n",
       "      <td>0</td>\n",
       "      <td>1</td>\n",
       "    </tr>\n",
       "    <tr>\n",
       "      <th>2</th>\n",
       "      <td>381</td>\n",
       "      <td>7337</td>\n",
       "      <td>1</td>\n",
       "      <td>100</td>\n",
       "      <td>4026532231</td>\n",
       "      <td>0</td>\n",
       "      <td>0</td>\n",
       "      <td>1</td>\n",
       "    </tr>\n",
       "    <tr>\n",
       "      <th>3</th>\n",
       "      <td>7347</td>\n",
       "      <td>7347</td>\n",
       "      <td>7341</td>\n",
       "      <td>0</td>\n",
       "      <td>4026531840</td>\n",
       "      <td>2</td>\n",
       "      <td>-2</td>\n",
       "      <td>1</td>\n",
       "    </tr>\n",
       "    <tr>\n",
       "      <th>4</th>\n",
       "      <td>7347</td>\n",
       "      <td>7347</td>\n",
       "      <td>7341</td>\n",
       "      <td>0</td>\n",
       "      <td>4026531840</td>\n",
       "      <td>4</td>\n",
       "      <td>0</td>\n",
       "      <td>1</td>\n",
       "    </tr>\n",
       "  </tbody>\n",
       "</table>\n",
       "</div>"
      ],
      "text/plain": [
       "   processId  threadId  parentProcessId  ...  argsNum  returnValue  sus_label\n",
       "0        381      7337                1  ...        5            0          1\n",
       "1        381      7337                1  ...        1            0          1\n",
       "2        381      7337                1  ...        0            0          1\n",
       "3       7347      7347             7341  ...        2           -2          1\n",
       "4       7347      7347             7341  ...        4            0          1\n",
       "\n",
       "[5 rows x 8 columns]"
      ]
     },
     "execution_count": 39,
     "metadata": {
      "application/com.datacamp.data-table.v2+json": {
       "status": "success"
      }
     },
     "output_type": "execute_result"
    }
   ],
   "source": [
    "# Load preprocessed data\n",
    "train_df = pd.read_csv('labelled_train.csv')\n",
    "test_df = pd.read_csv('labelled_test.csv')\n",
    "val_df = pd.read_csv('labelled_validation.csv')\n",
    "\n",
    "# View the first 5 rows of training set\n",
    "train_df.head()"
   ]
  },
  {
   "cell_type": "code",
   "execution_count": 40,
   "id": "a8b264e9-bbf0-40ec-9b21-6c167220bb61",
   "metadata": {
    "executionCancelledAt": null,
    "executionTime": 54,
    "lastExecutedAt": 1737562065615,
    "lastExecutedByKernel": "fb7c29d9-1741-4908-ab0b-b584fe53b3e9",
    "lastScheduledRunId": null,
    "lastSuccessfullyExecutedCode": "# Start coding here\n# Use as many cells as you need\nX_train = train_df.drop(columns='sus_label', axis=1).values\ny_train = train_df['sus_label'].values\n# X_train.head()",
    "outputsMetadata": {
     "0": {
      "height": 245,
      "tableState": {
       "customFilter": {
        "const": {
         "type": "boolean",
         "valid": true,
         "value": true
        },
        "id": "2943e78d-f30c-4def-9d82-00dc409a07d9",
        "nodeType": "const"
       },
       "quickFilterText": ""
      },
      "type": "dataFrame"
     }
    }
   },
   "outputs": [],
   "source": [
    "# Start coding here\n",
    "# Use as many cells as you need\n",
    "X_train = train_df.drop(columns='sus_label', axis=1).values\n",
    "y_train = train_df['sus_label'].values\n",
    "# X_train.head()"
   ]
  },
  {
   "cell_type": "code",
   "execution_count": 41,
   "id": "eaf7952a-0c63-4b61-b510-e0b9105487c9",
   "metadata": {
    "executionCancelledAt": null,
    "executionTime": 53,
    "lastExecutedAt": 1737562065668,
    "lastExecutedByKernel": "fb7c29d9-1741-4908-ab0b-b584fe53b3e9",
    "lastScheduledRunId": null,
    "lastSuccessfullyExecutedCode": "scaler = StandardScaler()\nX_train_scaled = scaler.fit_transform(X_train)\n# X_train = pd.DataFrame(X_train_scaled, columns=X_train.columns)\n# X_train.head()",
    "outputsMetadata": {
     "0": {
      "height": 550,
      "tableState": {
       "quickFilterText": ""
      },
      "type": "dataFrame"
     }
    }
   },
   "outputs": [],
   "source": [
    "scaler = StandardScaler()\n",
    "X_train_scaled = scaler.fit_transform(X_train)\n",
    "# X_train = pd.DataFrame(X_train_scaled, columns=X_train.columns)\n",
    "# X_train.head()"
   ]
  },
  {
   "cell_type": "code",
   "execution_count": 42,
   "id": "fd6a3719-8563-47f7-a901-ef61ecd080b0",
   "metadata": {
    "executionCancelledAt": null,
    "executionTime": 55,
    "lastExecutedAt": 1737562065723,
    "lastExecutedByKernel": "fb7c29d9-1741-4908-ab0b-b584fe53b3e9",
    "lastScheduledRunId": null,
    "lastSuccessfullyExecutedCode": "X_test = test_df.drop(columns='sus_label', axis=1).values\ny_test = test_df['sus_label'].values\nX_val = val_df.drop(columns='sus_label', axis=1).values\ny_val = val_df['sus_label'].values",
    "outputsMetadata": {
     "0": {
      "height": 500,
      "tableState": {
       "quickFilterText": ""
      },
      "type": "dataFrame"
     }
    }
   },
   "outputs": [],
   "source": [
    "X_test = test_df.drop(columns='sus_label', axis=1).values\n",
    "y_test = test_df['sus_label'].values\n",
    "X_val = val_df.drop(columns='sus_label', axis=1).values\n",
    "y_val = val_df['sus_label'].values"
   ]
  },
  {
   "cell_type": "code",
   "execution_count": 43,
   "id": "61e8c57a-0432-42d6-8a5a-f5aa9d53c1cf",
   "metadata": {
    "executionCancelledAt": null,
    "executionTime": 48,
    "lastExecutedAt": 1737562065771,
    "lastExecutedByKernel": "fb7c29d9-1741-4908-ab0b-b584fe53b3e9",
    "lastScheduledRunId": null,
    "lastSuccessfullyExecutedCode": "X_test = scaler.transform(X_test)\n\n\nX_val = scaler.transform(X_val)\n"
   },
   "outputs": [],
   "source": [
    "X_test = scaler.transform(X_test)\n",
    "\n",
    "\n",
    "X_val = scaler.transform(X_val)\n"
   ]
  },
  {
   "cell_type": "code",
   "execution_count": 44,
   "id": "e4e93c55-9498-4b44-9865-29ca1fea396e",
   "metadata": {
    "executionCancelledAt": null,
    "executionTime": 51,
    "lastExecutedAt": 1737562065823,
    "lastExecutedByKernel": "fb7c29d9-1741-4908-ab0b-b584fe53b3e9",
    "lastScheduledRunId": null,
    "lastSuccessfullyExecutedCode": "X_test_tensor = torch.tensor(X_test, dtype=torch.float32)\ny_test_tensor = torch.tensor(y_test, dtype=torch.float32).view(-1,1)\n\nX_val_tensor = torch.tensor(X_val, dtype=torch.float32)\ny_val_tensor = torch.tensor(y_val, dtype=torch.float32).view(-1,1)"
   },
   "outputs": [],
   "source": [
    "X_test_tensor = torch.tensor(X_test, dtype=torch.float32)\n",
    "y_test_tensor = torch.tensor(y_test, dtype=torch.float32).view(-1,1)\n",
    "\n",
    "X_val_tensor = torch.tensor(X_val, dtype=torch.float32)\n",
    "y_val_tensor = torch.tensor(y_val, dtype=torch.float32).view(-1,1)"
   ]
  },
  {
   "cell_type": "code",
   "execution_count": 45,
   "id": "8807632d-ac0c-4d9c-ac61-9c2398f55440",
   "metadata": {
    "executionCancelledAt": null,
    "executionTime": 52,
    "lastExecutedAt": 1737562065875,
    "lastExecutedByKernel": "fb7c29d9-1741-4908-ab0b-b584fe53b3e9",
    "lastScheduledRunId": null,
    "lastSuccessfullyExecutedCode": "X = torch.tensor(X_train_scaled, dtype=torch.float32)\ny = torch.tensor(y_train, dtype=torch.float32).view(-1,1)\nprint(X.shape)\nprint(y.shape)\nX_train_scaled.shape",
    "outputsMetadata": {
     "0": {
      "height": 59,
      "type": "stream"
     }
    }
   },
   "outputs": [
    {
     "name": "stdout",
     "output_type": "stream",
     "text": [
      "torch.Size([763144, 7])\n",
      "torch.Size([763144, 1])\n"
     ]
    },
    {
     "data": {
      "text/plain": [
       "(763144, 7)"
      ]
     },
     "execution_count": 45,
     "metadata": {},
     "output_type": "execute_result"
    }
   ],
   "source": [
    "X = torch.tensor(X_train_scaled, dtype=torch.float32)\n",
    "y = torch.tensor(y_train, dtype=torch.float32).view(-1,1)\n",
    "print(X.shape)\n",
    "print(y.shape)\n",
    "X_train_scaled.shape"
   ]
  },
  {
   "cell_type": "code",
   "execution_count": 46,
   "id": "3aaf575b-ad0d-471f-b852-fc90fd95894f",
   "metadata": {
    "executionCancelledAt": null,
    "executionTime": 48,
    "lastExecutedAt": 1737562065923,
    "lastExecutedByKernel": "fb7c29d9-1741-4908-ab0b-b584fe53b3e9",
    "lastScheduledRunId": null,
    "lastSuccessfullyExecutedCode": "y"
   },
   "outputs": [
    {
     "data": {
      "text/plain": [
       "tensor([[1.],\n",
       "        [1.],\n",
       "        [1.],\n",
       "        ...,\n",
       "        [0.],\n",
       "        [0.],\n",
       "        [0.]])"
      ]
     },
     "execution_count": 46,
     "metadata": {},
     "output_type": "execute_result"
    }
   ],
   "source": [
    "y"
   ]
  },
  {
   "cell_type": "code",
   "execution_count": 47,
   "id": "c9febb88-f642-46f7-b9dd-caf90c4ea6b8",
   "metadata": {
    "executionCancelledAt": null,
    "executionTime": 49,
    "lastExecutedAt": 1737562065972,
    "lastExecutedByKernel": "fb7c29d9-1741-4908-ab0b-b584fe53b3e9",
    "lastScheduledRunId": null,
    "lastSuccessfullyExecutedCode": "dataset = TensorDataset(X, y)\n\ndataloader = DataLoader(dataset, batch_size=32, shuffle=True)"
   },
   "outputs": [],
   "source": [
    "dataset = TensorDataset(X, y)\n",
    "\n",
    "dataloader = DataLoader(dataset, batch_size=32, shuffle=True)"
   ]
  },
  {
   "cell_type": "code",
   "execution_count": 48,
   "id": "d38873ce-5002-46b2-a7cf-534fb17d24f1",
   "metadata": {
    "executionCancelledAt": null,
    "executionTime": 50,
    "lastExecutedAt": 1737562066023,
    "lastExecutedByKernel": "fb7c29d9-1741-4908-ab0b-b584fe53b3e9",
    "lastScheduledRunId": null,
    "lastSuccessfullyExecutedCode": "model = nn.Sequential(\n        nn.Linear(X.shape[1], 128),\n        nn.ReLU(),\n        nn.Linear(128, 64),\n        nn.ReLU(),\n        nn.Linear(64,1),\n        nn.Sigmoid()\n)\nmodel"
   },
   "outputs": [
    {
     "data": {
      "text/plain": [
       "Sequential(\n",
       "  (0): Linear(in_features=7, out_features=128, bias=True)\n",
       "  (1): ReLU()\n",
       "  (2): Linear(in_features=128, out_features=64, bias=True)\n",
       "  (3): ReLU()\n",
       "  (4): Linear(in_features=64, out_features=1, bias=True)\n",
       "  (5): Sigmoid()\n",
       ")"
      ]
     },
     "execution_count": 48,
     "metadata": {},
     "output_type": "execute_result"
    }
   ],
   "source": [
    "model = nn.Sequential(\n",
    "        nn.Linear(X.shape[1], 128),\n",
    "        nn.ReLU(),\n",
    "        nn.Linear(128, 64),\n",
    "        nn.ReLU(),\n",
    "        nn.Linear(64,1),\n",
    "        nn.Sigmoid()\n",
    ")\n",
    "model"
   ]
  },
  {
   "cell_type": "code",
   "execution_count": 49,
   "id": "caa6cdcf-f93e-4153-bf31-b9f491d8d8d5",
   "metadata": {
    "executionCancelledAt": null,
    "executionTime": 52,
    "lastExecutedAt": 1737562066075,
    "lastExecutedByKernel": "fb7c29d9-1741-4908-ab0b-b584fe53b3e9",
    "lastScheduledRunId": null,
    "lastSuccessfullyExecutedCode": "criterion = nn.CrossEntropyLoss()\noptimizer = optim.SGD(params=model.parameters(), lr=0.001, weight_decay=0.0001)"
   },
   "outputs": [],
   "source": [
    "criterion = nn.CrossEntropyLoss()\n",
    "optimizer = optim.SGD(params=model.parameters(), lr=0.001, weight_decay=0.0001)"
   ]
  },
  {
   "cell_type": "code",
   "execution_count": 50,
   "id": "82994f27-e572-4378-951a-2bf5047316e4",
   "metadata": {
    "executionCancelledAt": null,
    "executionTime": 52,
    "lastExecutedAt": 1737562066127,
    "lastExecutedByKernel": "fb7c29d9-1741-4908-ab0b-b584fe53b3e9",
    "lastScheduledRunId": null,
    "lastSuccessfullyExecutedCode": "# epochs = 10\n# for epoch in range(epochs):\n    \n#     model.train()\n#     epoch_loss = 0.0\n    \n#     for batch_features, batch_labels in dataloader:\n        \n#         outputs = model(batch_features)\n#         loss = criterion(outputs, batch_labels)\n        \n#         optimizer.zero_grad()\n#         loss.backward()\n#         optimizer.step()\n        \n#         epoch_loss += loss.item()\n        \n    \n#     print(f\"Epoch: {epoch+1}/{epochs}, Loss: {epoch_loss:.4f}\")\n    \n# print(\"Training Complete\")\n        \n\n    ",
    "outputsMetadata": {
     "0": {
      "height": 206,
      "type": "stream"
     }
    }
   },
   "outputs": [],
   "source": [
    "epochs = 10\n",
    "for epoch in range(epochs):\n",
    "    \n",
    "    model.train()\n",
    "    epoch_loss = 0.0\n",
    "    \n",
    "    for batch_features, batch_labels in dataloader:\n",
    "        \n",
    "        outputs = model(batch_features)\n",
    "        loss = criterion(outputs, batch_labels)\n",
    "        \n",
    "        optimizer.zero_grad()\n",
    "        loss.backward()\n",
    "        optimizer.step()\n",
    "        \n",
    "        epoch_loss += loss.item()\n",
    "        \n",
    "    \n",
    "    print(f\"Epoch: {epoch+1}/{epochs}, Loss: {epoch_loss:.4f}\")\n",
    "    \n",
    "print(\"Training Complete\")\n",
    "        \n",
    "\n",
    "    "
   ]
  },
  {
   "cell_type": "code",
   "execution_count": 51,
   "id": "fe490ca6-c954-4459-b644-b1c2b16c7087",
   "metadata": {
    "executionCancelledAt": null,
    "executionTime": 1626,
    "lastExecutedAt": 1737562067753,
    "lastExecutedByKernel": "fb7c29d9-1741-4908-ab0b-b584fe53b3e9",
    "lastScheduledRunId": null,
    "lastSuccessfullyExecutedCode": "model.eval()\n\nwith torch.no_grad():\n    y_predict_train = model(X).round()\n    y_predict_test = model(X_test_tensor).round()\n    y_predict_val = model(X_val_tensor).round()\n    \n    "
   },
   "outputs": [],
   "source": [
    "model.eval()\n",
    "\n",
    "with torch.no_grad():\n",
    "    y_predict_train = model(X).round()\n",
    "    y_predict_test = model(X_test_tensor).round()\n",
    "    y_predict_val = model(X_val_tensor).round()\n",
    "    \n",
    "    "
   ]
  },
  {
   "cell_type": "code",
   "execution_count": 52,
   "id": "ff1a13d9-2f26-485d-b0bf-3f16b4d7527a",
   "metadata": {
    "executionCancelledAt": null,
    "executionTime": 90,
    "lastExecutedAt": 1737562067845,
    "lastExecutedByKernel": "fb7c29d9-1741-4908-ab0b-b584fe53b3e9",
    "lastScheduledRunId": null,
    "lastSuccessfullyExecutedCode": "accuracy = Accuracy(task=\"binary\")\n\ntrain_accuracy = accuracy(y_predict_train, y)\ntest_accuracy = accuracy(y_predict_test, y_test_tensor)\nval_accuracy = accuracy(y_predict_val, y_val_tensor)\n\nprint(\"Training accuracy: {0}\".format(train_accuracy))\nprint(\"Validation accuracy: {0}\".format(val_accuracy))\nprint(\"Testing accuracy: {0}\".format(test_accuracy))",
    "outputsMetadata": {
     "0": {
      "height": 80,
      "type": "stream"
     }
    }
   },
   "outputs": [
    {
     "name": "stdout",
     "output_type": "stream",
     "text": [
      "Training accuracy: 0.7992659211158752\n",
      "Validation accuracy: 0.9130483269691467\n",
      "Testing accuracy: 0.08159096539020538\n"
     ]
    }
   ],
   "source": [
    "accuracy = Accuracy(task=\"binary\")\n",
    "\n",
    "train_accuracy = accuracy(y_predict_train, y)\n",
    "test_accuracy = accuracy(y_predict_test, y_test_tensor)\n",
    "val_accuracy = accuracy(y_predict_val, y_val_tensor)\n",
    "\n",
    "print(\"Training accuracy: {0}\".format(train_accuracy))\n",
    "print(\"Validation accuracy: {0}\".format(val_accuracy))\n",
    "print(\"Testing accuracy: {0}\".format(test_accuracy))"
   ]
  },
  {
   "cell_type": "code",
   "execution_count": 53,
   "id": "053bedbc-1508-4106-935b-db1869720c45",
   "metadata": {
    "executionCancelledAt": null,
    "executionTime": 54,
    "lastExecutedAt": 1737562067899,
    "lastExecutedByKernel": "fb7c29d9-1741-4908-ab0b-b584fe53b3e9",
    "lastScheduledRunId": null,
    "lastSuccessfullyExecutedCode": "train_accuracy = train_accuracy.item()\ntest_accuracy = test_accuracy.item()\nval_accuracy = val_accuracy.item()\n\nprint(\"Training accuracy: {}\".format(train_accuracy))\nprint(\"Test accuracy: {}\".format(test_accuracy))\nprint(\"Val Accurcy: {}\".format(test_accuracy))"
   },
   "outputs": [
    {
     "name": "stdout",
     "output_type": "stream",
     "text": [
      "Training accuracy: 0.7992659211158752\n",
      "Test accuracy: 0.08159096539020538\n",
      "Val Accurcy: 0.08159096539020538\n"
     ]
    }
   ],
   "source": [
    "train_accuracy = train_accuracy.item()\n",
    "test_accuracy = test_accuracy.item()\n",
    "val_accuracy = val_accuracy.item()\n",
    "\n",
    "print(\"Training accuracy: {}\".format(train_accuracy))\n",
    "print(\"Test accuracy: {}\".format(test_accuracy))\n",
    "print(\"Val Accurcy: {}\".format(test_accuracy))"
   ]
  }
 ],
 "metadata": {
  "colab": {
   "name": "Welcome to DataCamp Workspaces.ipynb",
   "provenance": []
  },
  "editor": "DataLab",
  "kernelspec": {
   "display_name": "Python 3 (ipykernel)",
   "language": "python",
   "name": "python3"
  },
  "language_info": {
   "codemirror_mode": {
    "name": "ipython",
    "version": 3
   },
   "file_extension": ".py",
   "mimetype": "text/x-python",
   "name": "python",
   "nbconvert_exporter": "python",
   "pygments_lexer": "ipython3",
   "version": "3.12.6"
  }
 },
 "nbformat": 4,
 "nbformat_minor": 5
}
